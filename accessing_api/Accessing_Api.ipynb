{
 "cells": [
  {
   "cell_type": "code",
   "execution_count": 1,
   "metadata": {},
   "outputs": [],
   "source": [
    "import requests\n",
    "import json\n",
    "import settings"
   ]
  },
  {
   "cell_type": "markdown",
   "metadata": {},
   "source": [
    "Pulling data from the Qunadl API. Qaundl is currently the most widely used aggregator of financial market data."
   ]
  },
  {
   "cell_type": "code",
   "execution_count": 2,
   "metadata": {},
   "outputs": [
    {
     "name": "stdout",
     "output_type": "stream",
     "text": [
      "['2020-02-21', 110.1, 110.2, 107.7, 108.2, None, 119055.0, 12948891.0, None, None, None]\n"
     ]
    }
   ],
   "source": [
    "# Getting data from Frankfurt Stock Exhange (FSE) of the company called Carl Zeiss Meditec having stock ticker AFX_X\n",
    "# First testing to get data for only one day\n",
    "url = 'https://www.quandl.com/api/v3/datasets/FSE/AFX_X/data.json'\n",
    "params = {'api_key': settings.api_key}\n",
    "r = requests.get(url, params=params, proxies=settings.proxy_dict)\n",
    "r_json = r.json()\n",
    "r_json_data = r_json['dataset_data']['data']\n",
    "r_json_data_first_day = r_json_data[0]\n",
    "print(r_json_data_first_day)"
   ]
  },
  {
   "cell_type": "code",
   "execution_count": 3,
   "metadata": {},
   "outputs": [],
   "source": [
    "# Inspecting the JSON structure of the object\n",
    "r_json_dump = json.dumps(r_json)\n",
    "#print(r_json_dump)"
   ]
  },
  {
   "cell_type": "markdown",
   "metadata": {},
   "source": [
    "Collecting data from the Frankfurt Stock Exchange for the ticker AFX_X for the whole year 2017."
   ]
  },
  {
   "cell_type": "code",
   "execution_count": 4,
   "metadata": {},
   "outputs": [],
   "source": [
    "params = {'api_key': settings.api_key, 'start_date': '2017-01-01', 'end_date': '2017-12-31'}\n",
    "r = requests.get(url, params=params, proxies=settings.proxy_dict)\n",
    "r_json = r.json()"
   ]
  },
  {
   "cell_type": "markdown",
   "metadata": {},
   "source": [
    "Calculating what the highest and lowest opening prices were for the stock in this period."
   ]
  },
  {
   "cell_type": "code",
   "execution_count": 5,
   "metadata": {},
   "outputs": [
    {
     "name": "stdout",
     "output_type": "stream",
     "text": [
      "Highest opening price: 53.11\n",
      "Lowest opening price: 34.0\n"
     ]
    }
   ],
   "source": [
    "highest_open_price = float('-inf')\n",
    "lowest_open_price = float('inf')\n",
    "for i in range(len(r_json['dataset_data']['data'])):\n",
    "    open_price = r_json['dataset_data']['data'][i][1]    # 1 is the index of \"Open\"\n",
    "    if open_price:\n",
    "        if open_price > highest_open_price:\n",
    "            highest_open_price = open_price\n",
    "        if open_price < lowest_open_price:\n",
    "            lowest_open_price = open_price\n",
    "print('Highest opening price: {}'.format(highest_open_price))\n",
    "print('Lowest opening price: {}'.format(lowest_open_price))"
   ]
  },
  {
   "cell_type": "markdown",
   "metadata": {},
   "source": [
    "Calculating the largest change in one day (based on High and Low price)."
   ]
  },
  {
   "cell_type": "code",
   "execution_count": 6,
   "metadata": {},
   "outputs": [
    {
     "name": "stdout",
     "output_type": "stream",
     "text": [
      "Largest change in any one day based on high and low Price: 2.8100000000000023\n"
     ]
    }
   ],
   "source": [
    "largest_change = float('-inf')\n",
    "for i in range(len(r_json['dataset_data']['data'])):\n",
    "    high_price = r_json['dataset_data']['data'][i][2]    # 2 is the index of \"High\"\n",
    "    low_price = r_json['dataset_data']['data'][i][3]    # 3 is the index of \"Low\"\n",
    "    if high_price and low_price:    # neither is null\n",
    "        change = high_price - low_price\n",
    "        if change > largest_change:\n",
    "            largest_change = change\n",
    "print('Largest change in any one day based on high and low Price: {}'.format(largest_change))"
   ]
  },
  {
   "cell_type": "markdown",
   "metadata": {},
   "source": [
    "Calculating the largest change between any two days (based on Closing Price)."
   ]
  },
  {
   "cell_type": "code",
   "execution_count": 7,
   "metadata": {},
   "outputs": [
    {
     "name": "stdout",
     "output_type": "stream",
     "text": [
      "Largest change between two days based on closing price: 2.559999999999995\n"
     ]
    }
   ],
   "source": [
    "largest_change_between_two_days = float('-inf')\n",
    "last_close_price = None\n",
    "for i in range(len(r_json['dataset_data']['data'])):\n",
    "    close_price = r_json['dataset_data']['data'][i][4]    # 4 is the index of \"Close\"\n",
    "    if close_price and last_close_price:\n",
    "        change_between_two_days = abs(close_price - last_close_price)\n",
    "        if change_between_two_days > largest_change_between_two_days:\n",
    "            largest_change_between_two_days = change_between_two_days\n",
    "    last_close_price = close_price\n",
    "print('Largest change between two days based on closing price: {}'.format(largest_change_between_two_days))"
   ]
  },
  {
   "cell_type": "markdown",
   "metadata": {},
   "source": [
    "Calculating the average daily trading volume during this year."
   ]
  },
  {
   "cell_type": "code",
   "execution_count": 8,
   "metadata": {},
   "outputs": [
    {
     "name": "stdout",
     "output_type": "stream",
     "text": [
      "Average daily trading volume during the year: 89124.33725490196\n"
     ]
    }
   ],
   "source": [
    "sum_traded_volume = float(0)\n",
    "for i in range(len(r_json['dataset_data']['data'])):\n",
    "    traded_volume = r_json['dataset_data']['data'][i][6]    # 6 is the index of \"Traded Volume\"\n",
    "    if traded_volume:\n",
    "        sum_traded_volume += traded_volume\n",
    "print('Average daily trading volume during the year: {}'.format(sum_traded_volume/len(r_json['dataset_data']['data'])))"
   ]
  },
  {
   "cell_type": "markdown",
   "metadata": {},
   "source": [
    "Calculating the median trading volume during this year."
   ]
  },
  {
   "cell_type": "code",
   "execution_count": 9,
   "metadata": {},
   "outputs": [
    {
     "name": "stdout",
     "output_type": "stream",
     "text": [
      "Median trading volume during the year: 76286.0\n"
     ]
    }
   ],
   "source": [
    "# What was the median trading volume during this year\n",
    "def median(lst):\n",
    "    sorted_lst = sorted(lst)\n",
    "    len_lst = len(lst)\n",
    "    index = (len_lst - 1) // 2\n",
    "    if len_lst % 2 != 0: \n",
    "        return sorted_lst[index]\n",
    "    else:\n",
    "        return (sorted_lst[index] + sorted_lst[index + 1]) / 2.0\n",
    "    \n",
    "traded_volumes_lst = []\n",
    "for i in range(len(r_json['dataset_data']['data'])):\n",
    "    traded_volume = r_json['dataset_data']['data'][i][6]    # 6 is the index of \"Traded Volume\"\n",
    "    if traded_volume:\n",
    "        traded_volumes_lst.append(traded_volume)\n",
    "print('Median trading volume during the year: {0}'.format(median(traded_volumes_lst)))"
   ]
  },
  {
   "cell_type": "code",
   "execution_count": null,
   "metadata": {},
   "outputs": [],
   "source": []
  }
 ],
 "metadata": {
  "kernelspec": {
   "display_name": "Python 3",
   "language": "python",
   "name": "python3"
  },
  "language_info": {
   "codemirror_mode": {
    "name": "ipython",
    "version": 3
   },
   "file_extension": ".py",
   "mimetype": "text/x-python",
   "name": "python",
   "nbconvert_exporter": "python",
   "pygments_lexer": "ipython3",
   "version": "3.7.3"
  }
 },
 "nbformat": 4,
 "nbformat_minor": 2
}
